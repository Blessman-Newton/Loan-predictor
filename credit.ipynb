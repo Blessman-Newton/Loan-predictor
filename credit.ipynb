{
 "cells": [
  {
   "cell_type": "code",
   "execution_count": 5,
   "metadata": {},
   "outputs": [
    {
     "name": "stdout",
     "output_type": "stream",
     "text": [
      "Model Performance:\n",
      "              precision    recall  f1-score   support\n",
      "\n",
      "           0       0.95      0.78      0.86        23\n",
      "           1       0.17      0.50      0.25         2\n",
      "\n",
      "    accuracy                           0.76        25\n",
      "   macro avg       0.56      0.64      0.55        25\n",
      "weighted avg       0.88      0.76      0.81        25\n",
      "\n"
     ]
    }
   ],
   "source": [
    "import pandas as pd\n",
    "import numpy as np\n",
    "from sklearn.model_selection import train_test_split\n",
    "from sklearn.preprocessing import StandardScaler, LabelEncoder\n",
    "from sklearn.ensemble import RandomForestClassifier\n",
    "from sklearn.metrics import classification_report\n",
    "from imblearn.pipeline import Pipeline\n",
    "from imblearn.over_sampling import SMOTE\n",
    "import pickle\n",
    "\n",
    "def train_credit_model():\n",
    "    # Load data\n",
    "    df = pd.read_csv('data.csv')\n",
    "    \n",
    "    # Encode categoricals\n",
    "    le = LabelEncoder()\n",
    "    df['loan_type_encoded'] = le.fit_transform(df['loan_type'])\n",
    "    df['new_repeat_encoded'] = le.fit_transform(df['New_versus_Repeat'])\n",
    "    \n",
    "    # Create features\n",
    "    features = [\n",
    "        'Total_Amount', \n",
    "        'duration',\n",
    "        'loan_type_encoded',\n",
    "        'new_repeat_encoded',\n",
    "        'Lender_portion_Funded',\n",
    "        'Amount_Funded_By_Lender'\n",
    "    ]\n",
    "    \n",
    "    X = df[features]\n",
    "    y = df['target']\n",
    "    \n",
    "    # Train/test split\n",
    "    X_train, X_test, y_train, y_test = train_test_split(X, y, test_size=0.2, random_state=42)\n",
    "    \n",
    "    # Create pipeline\n",
    "    model = Pipeline([\n",
    "        ('scaler', StandardScaler()),\n",
    "        ('smote', SMOTE(random_state=42)),\n",
    "        ('rf', RandomForestClassifier(\n",
    "            n_estimators=200,\n",
    "            max_depth=20,\n",
    "            class_weight='balanced',\n",
    "            random_state=42\n",
    "        ))\n",
    "    ])\n",
    "    \n",
    "    # Train\n",
    "    model.fit(X_train, y_train)\n",
    "    \n",
    "    # Evaluate\n",
    "    y_pred = model.predict(X_test)\n",
    "    print(\"Model Performance:\")\n",
    "    print(classification_report(y_test, y_pred))\n",
    "    \n",
    "    # Save model\n",
    "    with open('credit_scoring.pkl', 'wb') as f:\n",
    "        pickle.dump(model, f)\n",
    "\n",
    "    return model\n",
    "\n",
    "if __name__ == \"__main__\":\n",
    "    model = train_credit_model()"
   ]
  },
  {
   "cell_type": "code",
   "execution_count": null,
   "metadata": {},
   "outputs": [],
   "source": []
  }
 ],
 "metadata": {
  "kernelspec": {
   "display_name": ".venv",
   "language": "python",
   "name": "python3"
  },
  "language_info": {
   "codemirror_mode": {
    "name": "ipython",
    "version": 3
   },
   "file_extension": ".py",
   "mimetype": "text/x-python",
   "name": "python",
   "nbconvert_exporter": "python",
   "pygments_lexer": "ipython3",
   "version": "3.12.4"
  }
 },
 "nbformat": 4,
 "nbformat_minor": 2
}
